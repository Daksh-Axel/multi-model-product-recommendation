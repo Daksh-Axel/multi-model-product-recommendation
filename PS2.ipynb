{
  "cells": [
    {
      "cell_type": "code",
      "source": [
        "!pip install nvtabular\n",
        "!pip install merlin.models"
      ],
      "metadata": {
        "id": "7mqPL9Aqzu3f"
      },
      "id": "7mqPL9Aqzu3f",
      "execution_count": null,
      "outputs": []
    },
    {
      "cell_type": "markdown",
      "source": [
        "## Importing libraries"
      ],
      "metadata": {
        "id": "lErJYNUnl9BU"
      },
      "id": "lErJYNUnl9BU"
    },
    {
      "cell_type": "code",
      "execution_count": 2,
      "id": "92aa8daa",
      "metadata": {
        "pycharm": {
          "name": "#%%\n"
        },
        "colab": {
          "base_uri": "https://localhost:8080/"
        },
        "id": "92aa8daa",
        "outputId": "86e40c0b-0d24-4d82-c7b2-cd89976d9bf4"
      },
      "outputs": [
        {
          "output_type": "stream",
          "name": "stderr",
          "text": [
            "/usr/local/lib/python3.10/dist-packages/merlin/dtypes/mappings/triton.py:53: UserWarning: Triton dtype mappings did not load successfully due to an error: No module named 'tritonclient'\n",
            "  warn(f\"Triton dtype mappings did not load successfully due to an error: {exc.msg}\")\n",
            "WARNING:tensorflow:Please fix your imports. Module tensorflow.python.training.tracking.data_structures has been moved to tensorflow.python.trackable.data_structures. The old module will be deleted in version 2.11.\n"
          ]
        }
      ],
      "source": [
        "import os\n",
        "\n",
        "import nvtabular as nvt\n",
        "from nvtabular.ops import *\n",
        "from merlin.models.utils.example_utils import workflow_fit_transform\n",
        "\n",
        "from merlin.schema.tags import Tags\n",
        "\n",
        "import merlin.models.tf as mm\n",
        "from merlin.io.dataset import Dataset\n",
        "from merlin.models.utils.dataset import unique_rows_by_features\n",
        "\n",
        "import tensorflow as tf"
      ]
    },
    {
      "cell_type": "code",
      "execution_count": 3,
      "id": "126c8bb8",
      "metadata": {
        "pycharm": {
          "name": "#%%\n"
        },
        "id": "126c8bb8"
      },
      "outputs": [],
      "source": [
        "# disable INFO and DEBUG logging everywhere\n",
        "import logging\n",
        "\n",
        "logging.disable(logging.WARNING)"
      ]
    },
    {
      "cell_type": "markdown",
      "id": "d21e559b",
      "metadata": {
        "pycharm": {
          "name": "#%% md\n"
        },
        "id": "d21e559b"
      },
      "source": [
        "## Synthetic data generation:"
      ]
    },
    {
      "cell_type": "code",
      "execution_count": 4,
      "id": "870acd78",
      "metadata": {
        "pycharm": {
          "name": "#%%\n"
        },
        "colab": {
          "base_uri": "https://localhost:8080/"
        },
        "id": "870acd78",
        "outputId": "e122b2f6-763e-4649-8913-ca8f70046a5e"
      },
      "outputs": [
        {
          "output_type": "stream",
          "name": "stderr",
          "text": [
            "/usr/local/lib/python3.10/dist-packages/merlin/io/dataset.py:267: UserWarning: Initializing an NVTabular Dataset in CPU mode.This is an experimental feature with extremely limited support!\n",
            "  warnings.warn(\n"
          ]
        }
      ],
      "source": [
        "from merlin.datasets.synthetic import generate_data\n",
        "DATA_FOLDER = os.environ.get(\"DATA_FOLDER\", \"/workspace/data/\")\n",
        "NUM_ROWS = os.environ.get(\"NUM_ROWS\", 1000000)\n",
        "SYNTHETIC_DATA = eval(os.environ.get(\"SYNTHETIC_DATA\", \"True\"))\n",
        "\n",
        "if SYNTHETIC_DATA:\n",
        "    train, valid = generate_data(\"aliccp-raw\", int(NUM_ROWS), set_sizes=(0.7, 0.3))\n",
        "else:\n",
        "    train = nvt.Dataset(DATA_FOLDER + \"/train/*.parquet\")\n",
        "    valid = nvt.Dataset(DATA_FOLDER + \"/valid/*.parquet\")"
      ]
    },
    {
      "cell_type": "code",
      "execution_count": 5,
      "id": "1dd757a3-2f93-495f-b2c5-5098c997d46e",
      "metadata": {
        "id": "1dd757a3-2f93-495f-b2c5-5098c997d46e"
      },
      "outputs": [],
      "source": [
        "train = train.to_ddf().compute()\n",
        "valid = valid.to_ddf().compute()"
      ]
    },
    {
      "cell_type": "markdown",
      "id": "3f7b7387-7c6c-48c0-82d8-d39685f99e4c",
      "metadata": {
        "id": "3f7b7387-7c6c-48c0-82d8-d39685f99e4c"
      },
      "source": [
        "### Filtering the postive interation as they are more relevant"
      ]
    },
    {
      "cell_type": "code",
      "source": [
        "train.columns"
      ],
      "metadata": {
        "colab": {
          "base_uri": "https://localhost:8080/"
        },
        "id": "OZYTXfq7nLsk",
        "outputId": "11127021-1f14-4440-8514-08c6db549d78"
      },
      "id": "OZYTXfq7nLsk",
      "execution_count": 6,
      "outputs": [
        {
          "output_type": "execute_result",
          "data": {
            "text/plain": [
              "Index(['user_id', 'user_shops', 'user_profile', 'user_group', 'user_gender',\n",
              "       'user_age', 'user_consumption_1', 'user_consumption_2',\n",
              "       'user_is_occupied', 'user_geography', 'user_intentions', 'user_brands',\n",
              "       'user_categories', 'item_id', 'item_category', 'item_shop',\n",
              "       'item_brand', 'item_intention', 'user_item_categories',\n",
              "       'user_item_shops', 'user_item_brands', 'user_item_intentions',\n",
              "       'position', 'click', 'conversion'],\n",
              "      dtype='object')"
            ]
          },
          "metadata": {},
          "execution_count": 6
        }
      ]
    },
    {
      "cell_type": "code",
      "execution_count": 7,
      "id": "4a0454c8-8eec-47cc-82e8-b45637b76d35",
      "metadata": {
        "id": "4a0454c8-8eec-47cc-82e8-b45637b76d35"
      },
      "outputs": [],
      "source": [
        "train = train.loc[train['click']==1].reset_index(drop=True)\n",
        "valid = valid.loc[valid['click']==1].reset_index(drop=True)"
      ]
    },
    {
      "cell_type": "code",
      "execution_count": 8,
      "id": "c6bd9c08-42c6-4aaa-9de5-494e0d5e8f0b",
      "metadata": {
        "id": "c6bd9c08-42c6-4aaa-9de5-494e0d5e8f0b",
        "colab": {
          "base_uri": "https://localhost:8080/"
        },
        "outputId": "d3820735-0ad2-4710-f864-73de1f446075"
      },
      "outputs": [
        {
          "output_type": "stream",
          "name": "stderr",
          "text": [
            "/usr/local/lib/python3.10/dist-packages/merlin/io/dataset.py:267: UserWarning: Initializing an NVTabular Dataset in CPU mode.This is an experimental feature with extremely limited support!\n",
            "  warnings.warn(\n"
          ]
        }
      ],
      "source": [
        "# converting into dataset object\n",
        "train = Dataset(train)\n",
        "valid = Dataset(valid)"
      ]
    },
    {
      "cell_type": "markdown",
      "id": "ce4ef6b3-cb4c-4f8a-ad7d-b1a81ea4e1ec",
      "metadata": {
        "id": "ce4ef6b3-cb4c-4f8a-ad7d-b1a81ea4e1ec"
      },
      "source": [
        "#### Storing processed data as parquet files"
      ]
    },
    {
      "cell_type": "code",
      "execution_count": 9,
      "id": "f23232bf-7822-498f-a036-23e44ef48e50",
      "metadata": {
        "id": "f23232bf-7822-498f-a036-23e44ef48e50"
      },
      "outputs": [],
      "source": [
        "output_path = os.path.join(DATA_FOLDER, \"processed\")"
      ]
    },
    {
      "cell_type": "markdown",
      "source": [
        "#### Defining NVTabular workflow for creating tags and features for user and products"
      ],
      "metadata": {
        "id": "xVX09d_Sn-xg"
      },
      "id": "xVX09d_Sn-xg"
    },
    {
      "cell_type": "code",
      "execution_count": 10,
      "id": "078593b4",
      "metadata": {
        "pycharm": {
          "name": "#%%\n"
        },
        "id": "078593b4"
      },
      "outputs": [],
      "source": [
        "category_temp_directory = os.path.join(DATA_FOLDER, \"categories\")\n",
        "\n",
        "# creating user and item tags\n",
        "user_id = [\"user_id\"] >> Categorify(out_path=category_temp_directory) >> TagAsUserID()\n",
        "item_id = [\"item_id\"] >> Categorify(out_path=category_temp_directory) >> TagAsItemID()\n",
        "\n",
        "#Defining item features\n",
        "item_features = [\"item_category\", \"item_shop\", \"item_brand\"] >> Categorify(out_path=category_temp_directory) >> TagAsItemFeatures()\n",
        "\n",
        "#Defining user features\n",
        "user_features = (\n",
        "    [\n",
        "        \"user_shops\",\n",
        "        \"user_profile\",\n",
        "        \"user_group\",\n",
        "        \"user_gender\",\n",
        "        \"user_age\",\n",
        "        \"user_consumption_2\",\n",
        "        \"user_is_occupied\",\n",
        "        \"user_geography\",\n",
        "        \"user_intentions\",\n",
        "        \"user_brands\",\n",
        "        \"user_categories\",\n",
        "    ]\n",
        "    >> Categorify(out_path=category_temp_directory)\n",
        "    >> TagAsUserFeatures()\n",
        ")\n",
        "targets = [\"click\"] >> AddMetadata(tags=[Tags.BINARY_CLASSIFICATION, \"target\"])\n",
        "outputs = user_id + item_id + item_features + user_features + targets\n",
        "outputs = outputs >> Dropna()"
      ]
    },
    {
      "cell_type": "markdown",
      "id": "2aa99f0b",
      "metadata": {
        "pycharm": {
          "name": "#%% md\n"
        },
        "id": "2aa99f0b"
      },
      "source": [
        "#### Applying the above workflow to process the synthetic data"
      ]
    },
    {
      "cell_type": "code",
      "execution_count": 11,
      "id": "07ab4edc",
      "metadata": {
        "pycharm": {
          "name": "#%%\n"
        },
        "colab": {
          "base_uri": "https://localhost:8080/"
        },
        "id": "07ab4edc",
        "outputId": "25443a6e-fd0f-4663-ac6b-4cf83f4f95c5"
      },
      "outputs": [
        {
          "output_type": "stream",
          "name": "stderr",
          "text": [
            "/usr/local/lib/python3.10/dist-packages/merlin/io/dataset.py:267: UserWarning: Initializing an NVTabular Dataset in CPU mode.This is an experimental feature with extremely limited support!\n",
            "  warnings.warn(\n",
            "/usr/local/lib/python3.10/dist-packages/merlin/io/dataset.py:267: UserWarning: Initializing an NVTabular Dataset in CPU mode.This is an experimental feature with extremely limited support!\n",
            "  warnings.warn(\n",
            "/usr/local/lib/python3.10/dist-packages/merlin/io/dataset.py:267: UserWarning: Initializing an NVTabular Dataset in CPU mode.This is an experimental feature with extremely limited support!\n",
            "  warnings.warn(\n"
          ]
        }
      ],
      "source": [
        "from merlin.datasets.ecommerce import transform_aliccp\n",
        "\n",
        "transform_aliccp((train, valid), output_path, nvt_workflow=outputs)"
      ]
    },
    {
      "cell_type": "code",
      "execution_count": 13,
      "id": "a7e0c257",
      "metadata": {
        "pycharm": {
          "name": "#%%\n"
        },
        "colab": {
          "base_uri": "https://localhost:8080/"
        },
        "id": "a7e0c257",
        "outputId": "6d3731a3-cc5d-4abb-b1f4-7daf3796890d"
      },
      "outputs": [
        {
          "output_type": "stream",
          "name": "stderr",
          "text": [
            "/usr/local/lib/python3.10/dist-packages/merlin/io/dataset.py:267: UserWarning: Initializing an NVTabular Dataset in CPU mode.This is an experimental feature with extremely limited support!\n",
            "  warnings.warn(\n",
            "/usr/local/lib/python3.10/dist-packages/merlin/io/dataset.py:267: UserWarning: Initializing an NVTabular Dataset in CPU mode.This is an experimental feature with extremely limited support!\n",
            "  warnings.warn(\n"
          ]
        }
      ],
      "source": [
        "train = Dataset(os.path.join(output_path, \"train\", \"*.parquet\"))\n",
        "valid = Dataset(os.path.join(output_path, \"valid\", \"*.parquet\"))"
      ]
    },
    {
      "cell_type": "markdown",
      "id": "fcdb2dbc-9bbd-46ad-aede-44c3ffbaac9d",
      "metadata": {
        "id": "fcdb2dbc-9bbd-46ad-aede-44c3ffbaac9d"
      },
      "source": [
        "#### Creating schema for model"
      ]
    },
    {
      "cell_type": "code",
      "execution_count": 14,
      "id": "94eb4048",
      "metadata": {
        "pycharm": {
          "name": "#%%\n"
        },
        "id": "94eb4048"
      },
      "outputs": [],
      "source": [
        "schema = train.schema.select_by_tag([Tags.ITEM_ID, Tags.USER_ID, Tags.ITEM, Tags.USER]).without(['click'])\n",
        "train.schema = schema\n",
        "valid.schema = schema"
      ]
    },
    {
      "cell_type": "code",
      "execution_count": 15,
      "id": "8b18bcf3-65c8-418a-aa43-55abb73a4542",
      "metadata": {
        "colab": {
          "base_uri": "https://localhost:8080/",
          "height": 1000
        },
        "id": "8b18bcf3-65c8-418a-aa43-55abb73a4542",
        "outputId": "269f6854-7a41-4cf7-98e8-879ce76acffa"
      },
      "outputs": [
        {
          "output_type": "execute_result",
          "data": {
            "text/plain": [
              "[{'name': 'user_id', 'tags': {<Tags.USER: 'user'>, <Tags.ID: 'id'>, <Tags.CATEGORICAL: 'categorical'>}, 'properties': {'num_buckets': None, 'embedding_sizes': {'dimension': 61.0, 'cardinality': 668.0}, 'cat_path': '/workspace/data/categories/categories/unique.user_id.parquet', 'max_size': 0.0, 'freq_threshold': 0.0, 'domain': {'min': 0, 'max': 667, 'name': 'user_id'}}, 'dtype': DType(name='int64', element_type=<ElementType.Int: 'int'>, element_size=64, element_unit=None, signed=True, shape=Shape(dims=(Dimension(min=0, max=None),))), 'is_list': False, 'is_ragged': False}, {'name': 'item_id', 'tags': {<Tags.ITEM: 'item'>, <Tags.ID: 'id'>, <Tags.CATEGORICAL: 'categorical'>}, 'properties': {'cat_path': '/workspace/data/categories/categories/unique.item_id.parquet', 'max_size': 0.0, 'embedding_sizes': {'dimension': 60.0, 'cardinality': 648.0}, 'freq_threshold': 0.0, 'num_buckets': None, 'domain': {'min': 0, 'max': 647, 'name': 'item_id'}}, 'dtype': DType(name='int64', element_type=<ElementType.Int: 'int'>, element_size=64, element_unit=None, signed=True, shape=Shape(dims=(Dimension(min=0, max=None),))), 'is_list': False, 'is_ragged': False}, {'name': 'item_category', 'tags': {<Tags.ITEM: 'item'>, <Tags.CATEGORICAL: 'categorical'>}, 'properties': {'num_buckets': None, 'embedding_sizes': {'dimension': 60.0, 'cardinality': 648.0}, 'freq_threshold': 0.0, 'max_size': 0.0, 'cat_path': '/workspace/data/categories/categories/unique.item_category.parquet', 'domain': {'min': 0, 'max': 647, 'name': 'item_category'}}, 'dtype': DType(name='int64', element_type=<ElementType.Int: 'int'>, element_size=64, element_unit=None, signed=True, shape=Shape(dims=(Dimension(min=0, max=None),))), 'is_list': False, 'is_ragged': False}, {'name': 'item_shop', 'tags': {<Tags.ITEM: 'item'>, <Tags.CATEGORICAL: 'categorical'>}, 'properties': {'freq_threshold': 0.0, 'max_size': 0.0, 'num_buckets': None, 'cat_path': '/workspace/data/categories/categories/unique.item_shop.parquet', 'embedding_sizes': {'dimension': 60.0, 'cardinality': 648.0}, 'domain': {'min': 0, 'max': 647, 'name': 'item_shop'}}, 'dtype': DType(name='int64', element_type=<ElementType.Int: 'int'>, element_size=64, element_unit=None, signed=True, shape=Shape(dims=(Dimension(min=0, max=None),))), 'is_list': False, 'is_ragged': False}, {'name': 'item_brand', 'tags': {<Tags.ITEM: 'item'>, <Tags.CATEGORICAL: 'categorical'>}, 'properties': {'num_buckets': None, 'max_size': 0.0, 'embedding_sizes': {'dimension': 60.0, 'cardinality': 648.0}, 'cat_path': '/workspace/data/categories/categories/unique.item_brand.parquet', 'freq_threshold': 0.0, 'domain': {'min': 0, 'max': 647, 'name': 'item_brand'}}, 'dtype': DType(name='int64', element_type=<ElementType.Int: 'int'>, element_size=64, element_unit=None, signed=True, shape=Shape(dims=(Dimension(min=0, max=None),))), 'is_list': False, 'is_ragged': False}, {'name': 'user_shops', 'tags': {<Tags.USER: 'user'>, <Tags.CATEGORICAL: 'categorical'>}, 'properties': {'num_buckets': None, 'max_size': 0.0, 'freq_threshold': 0.0, 'cat_path': '/workspace/data/categories/categories/unique.user_shops.parquet', 'embedding_sizes': {'dimension': 61.0, 'cardinality': 668.0}, 'domain': {'min': 0, 'max': 667, 'name': 'user_shops'}}, 'dtype': DType(name='int64', element_type=<ElementType.Int: 'int'>, element_size=64, element_unit=None, signed=True, shape=Shape(dims=(Dimension(min=0, max=None),))), 'is_list': False, 'is_ragged': False}, {'name': 'user_profile', 'tags': {<Tags.USER: 'user'>, <Tags.CATEGORICAL: 'categorical'>}, 'properties': {'cat_path': '/workspace/data/categories/categories/unique.user_profile.parquet', 'embedding_sizes': {'dimension': 16.0, 'cardinality': 47.0}, 'max_size': 0.0, 'freq_threshold': 0.0, 'num_buckets': None, 'domain': {'min': 0, 'max': 46, 'name': 'user_profile'}}, 'dtype': DType(name='int64', element_type=<ElementType.Int: 'int'>, element_size=64, element_unit=None, signed=True, shape=Shape(dims=(Dimension(min=0, max=None),))), 'is_list': False, 'is_ragged': False}, {'name': 'user_group', 'tags': {<Tags.USER: 'user'>, <Tags.CATEGORICAL: 'categorical'>}, 'properties': {'num_buckets': None, 'embedding_sizes': {'dimension': 16.0, 'cardinality': 11.0}, 'freq_threshold': 0.0, 'cat_path': '/workspace/data/categories/categories/unique.user_group.parquet', 'max_size': 0.0, 'domain': {'min': 0, 'max': 10, 'name': 'user_group'}}, 'dtype': DType(name='int64', element_type=<ElementType.Int: 'int'>, element_size=64, element_unit=None, signed=True, shape=Shape(dims=(Dimension(min=0, max=None),))), 'is_list': False, 'is_ragged': False}, {'name': 'user_gender', 'tags': {<Tags.USER: 'user'>, <Tags.CATEGORICAL: 'categorical'>}, 'properties': {'num_buckets': None, 'embedding_sizes': {'cardinality': 5.0, 'dimension': 16.0}, 'cat_path': '/workspace/data/categories/categories/unique.user_gender.parquet', 'freq_threshold': 0.0, 'max_size': 0.0, 'domain': {'min': 0, 'max': 4, 'name': 'user_gender'}}, 'dtype': DType(name='int64', element_type=<ElementType.Int: 'int'>, element_size=64, element_unit=None, signed=True, shape=Shape(dims=(Dimension(min=0, max=None),))), 'is_list': False, 'is_ragged': False}, {'name': 'user_age', 'tags': {<Tags.USER: 'user'>, <Tags.CATEGORICAL: 'categorical'>}, 'properties': {'num_buckets': None, 'freq_threshold': 0.0, 'max_size': 0.0, 'embedding_sizes': {'cardinality': 8.0, 'dimension': 16.0}, 'cat_path': '/workspace/data/categories/categories/unique.user_age.parquet', 'domain': {'min': 0, 'max': 7, 'name': 'user_age'}}, 'dtype': DType(name='int64', element_type=<ElementType.Int: 'int'>, element_size=64, element_unit=None, signed=True, shape=Shape(dims=(Dimension(min=0, max=None),))), 'is_list': False, 'is_ragged': False}, {'name': 'user_consumption_2', 'tags': {<Tags.USER: 'user'>, <Tags.CATEGORICAL: 'categorical'>}, 'properties': {'max_size': 0.0, 'num_buckets': None, 'freq_threshold': 0.0, 'cat_path': '/workspace/data/categories/categories/unique.user_consumption_2.parquet', 'embedding_sizes': {'cardinality': 5.0, 'dimension': 16.0}, 'domain': {'min': 0, 'max': 4, 'name': 'user_consumption_2'}}, 'dtype': DType(name='int64', element_type=<ElementType.Int: 'int'>, element_size=64, element_unit=None, signed=True, shape=Shape(dims=(Dimension(min=0, max=None),))), 'is_list': False, 'is_ragged': False}, {'name': 'user_is_occupied', 'tags': {<Tags.USER: 'user'>, <Tags.CATEGORICAL: 'categorical'>}, 'properties': {'num_buckets': None, 'freq_threshold': 0.0, 'max_size': 0.0, 'embedding_sizes': {'dimension': 16.0, 'cardinality': 5.0}, 'cat_path': '/workspace/data/categories/categories/unique.user_is_occupied.parquet', 'domain': {'min': 0, 'max': 4, 'name': 'user_is_occupied'}}, 'dtype': DType(name='int64', element_type=<ElementType.Int: 'int'>, element_size=64, element_unit=None, signed=True, shape=Shape(dims=(Dimension(min=0, max=None),))), 'is_list': False, 'is_ragged': False}, {'name': 'user_geography', 'tags': {<Tags.USER: 'user'>, <Tags.CATEGORICAL: 'categorical'>}, 'properties': {'cat_path': '/workspace/data/categories/categories/unique.user_geography.parquet', 'num_buckets': None, 'freq_threshold': 0.0, 'max_size': 0.0, 'embedding_sizes': {'cardinality': 6.0, 'dimension': 16.0}, 'domain': {'min': 0, 'max': 5, 'name': 'user_geography'}}, 'dtype': DType(name='int64', element_type=<ElementType.Int: 'int'>, element_size=64, element_unit=None, signed=True, shape=Shape(dims=(Dimension(min=0, max=None),))), 'is_list': False, 'is_ragged': False}, {'name': 'user_intentions', 'tags': {<Tags.USER: 'user'>, <Tags.CATEGORICAL: 'categorical'>}, 'properties': {'embedding_sizes': {'dimension': 61.0, 'cardinality': 668.0}, 'max_size': 0.0, 'freq_threshold': 0.0, 'num_buckets': None, 'cat_path': '/workspace/data/categories/categories/unique.user_intentions.parquet', 'domain': {'min': 0, 'max': 667, 'name': 'user_intentions'}}, 'dtype': DType(name='int64', element_type=<ElementType.Int: 'int'>, element_size=64, element_unit=None, signed=True, shape=Shape(dims=(Dimension(min=0, max=None),))), 'is_list': False, 'is_ragged': False}, {'name': 'user_brands', 'tags': {<Tags.USER: 'user'>, <Tags.CATEGORICAL: 'categorical'>}, 'properties': {'freq_threshold': 0.0, 'num_buckets': None, 'embedding_sizes': {'dimension': 61.0, 'cardinality': 668.0}, 'max_size': 0.0, 'cat_path': '/workspace/data/categories/categories/unique.user_brands.parquet', 'domain': {'min': 0, 'max': 667, 'name': 'user_brands'}}, 'dtype': DType(name='int64', element_type=<ElementType.Int: 'int'>, element_size=64, element_unit=None, signed=True, shape=Shape(dims=(Dimension(min=0, max=None),))), 'is_list': False, 'is_ragged': False}, {'name': 'user_categories', 'tags': {<Tags.USER: 'user'>, <Tags.CATEGORICAL: 'categorical'>}, 'properties': {'embedding_sizes': {'cardinality': 668.0, 'dimension': 61.0}, 'max_size': 0.0, 'num_buckets': None, 'freq_threshold': 0.0, 'cat_path': '/workspace/data/categories/categories/unique.user_categories.parquet', 'domain': {'min': 0, 'max': 667, 'name': 'user_categories'}}, 'dtype': DType(name='int64', element_type=<ElementType.Int: 'int'>, element_size=64, element_unit=None, signed=True, shape=Shape(dims=(Dimension(min=0, max=None),))), 'is_list': False, 'is_ragged': False}]"
            ],
            "text/html": [
              "<div>\n",
              "<style scoped>\n",
              "    .dataframe tbody tr th:only-of-type {\n",
              "        vertical-align: middle;\n",
              "    }\n",
              "\n",
              "    .dataframe tbody tr th {\n",
              "        vertical-align: top;\n",
              "    }\n",
              "\n",
              "    .dataframe thead th {\n",
              "        text-align: right;\n",
              "    }\n",
              "</style>\n",
              "<table border=\"1\" class=\"dataframe\">\n",
              "  <thead>\n",
              "    <tr style=\"text-align: right;\">\n",
              "      <th></th>\n",
              "      <th>name</th>\n",
              "      <th>tags</th>\n",
              "      <th>dtype</th>\n",
              "      <th>is_list</th>\n",
              "      <th>is_ragged</th>\n",
              "      <th>properties.num_buckets</th>\n",
              "      <th>properties.embedding_sizes.dimension</th>\n",
              "      <th>properties.embedding_sizes.cardinality</th>\n",
              "      <th>properties.cat_path</th>\n",
              "      <th>properties.max_size</th>\n",
              "      <th>properties.freq_threshold</th>\n",
              "      <th>properties.domain.min</th>\n",
              "      <th>properties.domain.max</th>\n",
              "      <th>properties.domain.name</th>\n",
              "    </tr>\n",
              "  </thead>\n",
              "  <tbody>\n",
              "    <tr>\n",
              "      <th>0</th>\n",
              "      <td>user_id</td>\n",
              "      <td>(Tags.USER, Tags.ID, Tags.CATEGORICAL)</td>\n",
              "      <td>DType(name='int64', element_type=&lt;ElementType....</td>\n",
              "      <td>False</td>\n",
              "      <td>False</td>\n",
              "      <td>None</td>\n",
              "      <td>61.0</td>\n",
              "      <td>668.0</td>\n",
              "      <td>/workspace/data/categories/categories/unique.u...</td>\n",
              "      <td>0.0</td>\n",
              "      <td>0.0</td>\n",
              "      <td>0</td>\n",
              "      <td>667</td>\n",
              "      <td>user_id</td>\n",
              "    </tr>\n",
              "    <tr>\n",
              "      <th>1</th>\n",
              "      <td>item_id</td>\n",
              "      <td>(Tags.ITEM, Tags.ID, Tags.CATEGORICAL)</td>\n",
              "      <td>DType(name='int64', element_type=&lt;ElementType....</td>\n",
              "      <td>False</td>\n",
              "      <td>False</td>\n",
              "      <td>None</td>\n",
              "      <td>60.0</td>\n",
              "      <td>648.0</td>\n",
              "      <td>/workspace/data/categories/categories/unique.i...</td>\n",
              "      <td>0.0</td>\n",
              "      <td>0.0</td>\n",
              "      <td>0</td>\n",
              "      <td>647</td>\n",
              "      <td>item_id</td>\n",
              "    </tr>\n",
              "    <tr>\n",
              "      <th>2</th>\n",
              "      <td>item_category</td>\n",
              "      <td>(Tags.ITEM, Tags.CATEGORICAL)</td>\n",
              "      <td>DType(name='int64', element_type=&lt;ElementType....</td>\n",
              "      <td>False</td>\n",
              "      <td>False</td>\n",
              "      <td>None</td>\n",
              "      <td>60.0</td>\n",
              "      <td>648.0</td>\n",
              "      <td>/workspace/data/categories/categories/unique.i...</td>\n",
              "      <td>0.0</td>\n",
              "      <td>0.0</td>\n",
              "      <td>0</td>\n",
              "      <td>647</td>\n",
              "      <td>item_category</td>\n",
              "    </tr>\n",
              "    <tr>\n",
              "      <th>3</th>\n",
              "      <td>item_shop</td>\n",
              "      <td>(Tags.ITEM, Tags.CATEGORICAL)</td>\n",
              "      <td>DType(name='int64', element_type=&lt;ElementType....</td>\n",
              "      <td>False</td>\n",
              "      <td>False</td>\n",
              "      <td>None</td>\n",
              "      <td>60.0</td>\n",
              "      <td>648.0</td>\n",
              "      <td>/workspace/data/categories/categories/unique.i...</td>\n",
              "      <td>0.0</td>\n",
              "      <td>0.0</td>\n",
              "      <td>0</td>\n",
              "      <td>647</td>\n",
              "      <td>item_shop</td>\n",
              "    </tr>\n",
              "    <tr>\n",
              "      <th>4</th>\n",
              "      <td>item_brand</td>\n",
              "      <td>(Tags.ITEM, Tags.CATEGORICAL)</td>\n",
              "      <td>DType(name='int64', element_type=&lt;ElementType....</td>\n",
              "      <td>False</td>\n",
              "      <td>False</td>\n",
              "      <td>None</td>\n",
              "      <td>60.0</td>\n",
              "      <td>648.0</td>\n",
              "      <td>/workspace/data/categories/categories/unique.i...</td>\n",
              "      <td>0.0</td>\n",
              "      <td>0.0</td>\n",
              "      <td>0</td>\n",
              "      <td>647</td>\n",
              "      <td>item_brand</td>\n",
              "    </tr>\n",
              "    <tr>\n",
              "      <th>5</th>\n",
              "      <td>user_shops</td>\n",
              "      <td>(Tags.USER, Tags.CATEGORICAL)</td>\n",
              "      <td>DType(name='int64', element_type=&lt;ElementType....</td>\n",
              "      <td>False</td>\n",
              "      <td>False</td>\n",
              "      <td>None</td>\n",
              "      <td>61.0</td>\n",
              "      <td>668.0</td>\n",
              "      <td>/workspace/data/categories/categories/unique.u...</td>\n",
              "      <td>0.0</td>\n",
              "      <td>0.0</td>\n",
              "      <td>0</td>\n",
              "      <td>667</td>\n",
              "      <td>user_shops</td>\n",
              "    </tr>\n",
              "    <tr>\n",
              "      <th>6</th>\n",
              "      <td>user_profile</td>\n",
              "      <td>(Tags.USER, Tags.CATEGORICAL)</td>\n",
              "      <td>DType(name='int64', element_type=&lt;ElementType....</td>\n",
              "      <td>False</td>\n",
              "      <td>False</td>\n",
              "      <td>None</td>\n",
              "      <td>16.0</td>\n",
              "      <td>47.0</td>\n",
              "      <td>/workspace/data/categories/categories/unique.u...</td>\n",
              "      <td>0.0</td>\n",
              "      <td>0.0</td>\n",
              "      <td>0</td>\n",
              "      <td>46</td>\n",
              "      <td>user_profile</td>\n",
              "    </tr>\n",
              "    <tr>\n",
              "      <th>7</th>\n",
              "      <td>user_group</td>\n",
              "      <td>(Tags.USER, Tags.CATEGORICAL)</td>\n",
              "      <td>DType(name='int64', element_type=&lt;ElementType....</td>\n",
              "      <td>False</td>\n",
              "      <td>False</td>\n",
              "      <td>None</td>\n",
              "      <td>16.0</td>\n",
              "      <td>11.0</td>\n",
              "      <td>/workspace/data/categories/categories/unique.u...</td>\n",
              "      <td>0.0</td>\n",
              "      <td>0.0</td>\n",
              "      <td>0</td>\n",
              "      <td>10</td>\n",
              "      <td>user_group</td>\n",
              "    </tr>\n",
              "    <tr>\n",
              "      <th>8</th>\n",
              "      <td>user_gender</td>\n",
              "      <td>(Tags.USER, Tags.CATEGORICAL)</td>\n",
              "      <td>DType(name='int64', element_type=&lt;ElementType....</td>\n",
              "      <td>False</td>\n",
              "      <td>False</td>\n",
              "      <td>None</td>\n",
              "      <td>16.0</td>\n",
              "      <td>5.0</td>\n",
              "      <td>/workspace/data/categories/categories/unique.u...</td>\n",
              "      <td>0.0</td>\n",
              "      <td>0.0</td>\n",
              "      <td>0</td>\n",
              "      <td>4</td>\n",
              "      <td>user_gender</td>\n",
              "    </tr>\n",
              "    <tr>\n",
              "      <th>9</th>\n",
              "      <td>user_age</td>\n",
              "      <td>(Tags.USER, Tags.CATEGORICAL)</td>\n",
              "      <td>DType(name='int64', element_type=&lt;ElementType....</td>\n",
              "      <td>False</td>\n",
              "      <td>False</td>\n",
              "      <td>None</td>\n",
              "      <td>16.0</td>\n",
              "      <td>8.0</td>\n",
              "      <td>/workspace/data/categories/categories/unique.u...</td>\n",
              "      <td>0.0</td>\n",
              "      <td>0.0</td>\n",
              "      <td>0</td>\n",
              "      <td>7</td>\n",
              "      <td>user_age</td>\n",
              "    </tr>\n",
              "    <tr>\n",
              "      <th>10</th>\n",
              "      <td>user_consumption_2</td>\n",
              "      <td>(Tags.USER, Tags.CATEGORICAL)</td>\n",
              "      <td>DType(name='int64', element_type=&lt;ElementType....</td>\n",
              "      <td>False</td>\n",
              "      <td>False</td>\n",
              "      <td>None</td>\n",
              "      <td>16.0</td>\n",
              "      <td>5.0</td>\n",
              "      <td>/workspace/data/categories/categories/unique.u...</td>\n",
              "      <td>0.0</td>\n",
              "      <td>0.0</td>\n",
              "      <td>0</td>\n",
              "      <td>4</td>\n",
              "      <td>user_consumption_2</td>\n",
              "    </tr>\n",
              "    <tr>\n",
              "      <th>11</th>\n",
              "      <td>user_is_occupied</td>\n",
              "      <td>(Tags.USER, Tags.CATEGORICAL)</td>\n",
              "      <td>DType(name='int64', element_type=&lt;ElementType....</td>\n",
              "      <td>False</td>\n",
              "      <td>False</td>\n",
              "      <td>None</td>\n",
              "      <td>16.0</td>\n",
              "      <td>5.0</td>\n",
              "      <td>/workspace/data/categories/categories/unique.u...</td>\n",
              "      <td>0.0</td>\n",
              "      <td>0.0</td>\n",
              "      <td>0</td>\n",
              "      <td>4</td>\n",
              "      <td>user_is_occupied</td>\n",
              "    </tr>\n",
              "    <tr>\n",
              "      <th>12</th>\n",
              "      <td>user_geography</td>\n",
              "      <td>(Tags.USER, Tags.CATEGORICAL)</td>\n",
              "      <td>DType(name='int64', element_type=&lt;ElementType....</td>\n",
              "      <td>False</td>\n",
              "      <td>False</td>\n",
              "      <td>None</td>\n",
              "      <td>16.0</td>\n",
              "      <td>6.0</td>\n",
              "      <td>/workspace/data/categories/categories/unique.u...</td>\n",
              "      <td>0.0</td>\n",
              "      <td>0.0</td>\n",
              "      <td>0</td>\n",
              "      <td>5</td>\n",
              "      <td>user_geography</td>\n",
              "    </tr>\n",
              "    <tr>\n",
              "      <th>13</th>\n",
              "      <td>user_intentions</td>\n",
              "      <td>(Tags.USER, Tags.CATEGORICAL)</td>\n",
              "      <td>DType(name='int64', element_type=&lt;ElementType....</td>\n",
              "      <td>False</td>\n",
              "      <td>False</td>\n",
              "      <td>None</td>\n",
              "      <td>61.0</td>\n",
              "      <td>668.0</td>\n",
              "      <td>/workspace/data/categories/categories/unique.u...</td>\n",
              "      <td>0.0</td>\n",
              "      <td>0.0</td>\n",
              "      <td>0</td>\n",
              "      <td>667</td>\n",
              "      <td>user_intentions</td>\n",
              "    </tr>\n",
              "    <tr>\n",
              "      <th>14</th>\n",
              "      <td>user_brands</td>\n",
              "      <td>(Tags.USER, Tags.CATEGORICAL)</td>\n",
              "      <td>DType(name='int64', element_type=&lt;ElementType....</td>\n",
              "      <td>False</td>\n",
              "      <td>False</td>\n",
              "      <td>None</td>\n",
              "      <td>61.0</td>\n",
              "      <td>668.0</td>\n",
              "      <td>/workspace/data/categories/categories/unique.u...</td>\n",
              "      <td>0.0</td>\n",
              "      <td>0.0</td>\n",
              "      <td>0</td>\n",
              "      <td>667</td>\n",
              "      <td>user_brands</td>\n",
              "    </tr>\n",
              "    <tr>\n",
              "      <th>15</th>\n",
              "      <td>user_categories</td>\n",
              "      <td>(Tags.USER, Tags.CATEGORICAL)</td>\n",
              "      <td>DType(name='int64', element_type=&lt;ElementType....</td>\n",
              "      <td>False</td>\n",
              "      <td>False</td>\n",
              "      <td>None</td>\n",
              "      <td>61.0</td>\n",
              "      <td>668.0</td>\n",
              "      <td>/workspace/data/categories/categories/unique.u...</td>\n",
              "      <td>0.0</td>\n",
              "      <td>0.0</td>\n",
              "      <td>0</td>\n",
              "      <td>667</td>\n",
              "      <td>user_categories</td>\n",
              "    </tr>\n",
              "  </tbody>\n",
              "</table>\n",
              "</div>"
            ]
          },
          "metadata": {},
          "execution_count": 15
        }
      ],
      "source": [
        "schema"
      ]
    },
    {
      "cell_type": "code",
      "execution_count": 16,
      "id": "68bf449f",
      "metadata": {
        "pycharm": {
          "name": "#%%\n"
        },
        "colab": {
          "base_uri": "https://localhost:8080/"
        },
        "id": "68bf449f",
        "outputId": "154058b2-708a-4318-99ad-6114f7cc0882"
      },
      "outputs": [
        {
          "output_type": "execute_result",
          "data": {
            "text/plain": [
              "[]"
            ]
          },
          "metadata": {},
          "execution_count": 16
        }
      ],
      "source": [
        "label_names = schema.select_by_tag(Tags.TARGET).column_names\n",
        "label_names\n",
        "# verifying target is not included"
      ]
    },
    {
      "cell_type": "markdown",
      "source": [
        "### Creating two towers (user or query) and (item or candidate) for two tower model. As it will create its embeddings and calculate the dot product between them."
      ],
      "metadata": {
        "id": "MVA2jC51rHdp"
      },
      "id": "MVA2jC51rHdp"
    },
    {
      "cell_type": "code",
      "execution_count": 17,
      "id": "30446249-70e8-46c2-98eb-40a5e358d86e",
      "metadata": {
        "id": "30446249-70e8-46c2-98eb-40a5e358d86e"
      },
      "outputs": [],
      "source": [
        "tower_dim = 64\n",
        "\n",
        "# create user schema using USER tag\n",
        "user_schema = schema.select_by_tag(Tags.USER)\n",
        "# create user (query) tower input block\n",
        "user_inputs = mm.InputBlockV2(user_schema)\n",
        "# create user (query) encoder block\n",
        "query = mm.Encoder(user_inputs, mm.MLPBlock([128, tower_dim], no_activation_last_layer=True))\n",
        "\n",
        "# create item schema using ITEM tag\n",
        "item_schema = schema.select_by_tag(Tags.ITEM)\n",
        "# create item (candidate) tower input block\n",
        "item_inputs = mm.InputBlockV2(item_schema)\n",
        "# create item (candidate) encoder block\n",
        "candidate = mm.Encoder(item_inputs, mm.MLPBlock([128, tower_dim], no_activation_last_layer=True))"
      ]
    },
    {
      "cell_type": "markdown",
      "id": "261f2f38-65f7-4473-aa42-1237b613cb84",
      "metadata": {
        "id": "261f2f38-65f7-4473-aa42-1237b613cb84"
      },
      "source": [
        "#### As due to large number of non-interacted items we only considered positive iteraction and for randomness we introduce in-batch negative sampling"
      ]
    },
    {
      "cell_type": "code",
      "execution_count": 31,
      "id": "64e02cc5-d966-400f-9b40-4ed18cbb6e49",
      "metadata": {
        "id": "64e02cc5-d966-400f-9b40-4ed18cbb6e49"
      },
      "outputs": [],
      "source": [
        "model = mm.TwoTowerModelV2(query, candidate)\n",
        "# in-batch negative sampling"
      ]
    },
    {
      "cell_type": "markdown",
      "id": "3c7ec768",
      "metadata": {
        "pycharm": {
          "name": "#%% md\n"
        },
        "id": "3c7ec768"
      },
      "source": [
        "### Training Two tower model"
      ]
    },
    {
      "cell_type": "code",
      "execution_count": 32,
      "id": "1280bb4f",
      "metadata": {
        "pycharm": {
          "name": "#%%\n"
        },
        "colab": {
          "base_uri": "https://localhost:8080/"
        },
        "id": "1280bb4f",
        "outputId": "c25b9e65-d016-4c82-af25-0b47801cca78"
      },
      "outputs": [
        {
          "output_type": "stream",
          "name": "stdout",
          "text": [
            "Epoch 1/2\n",
            "86/86 [==============================] - 77s 847ms/step - loss: 8.2936 - recall_at_10: 0.0235 - ndcg_at_10: 0.0216 - regularization_loss: 0.0000e+00 - loss_batch: 8.2803 - val_loss: 8.2922 - val_recall_at_10: 0.0149 - val_ndcg_at_10: 0.0120 - val_regularization_loss: 0.0000e+00 - val_loss_batch: 7.7584\n",
            "Epoch 2/2\n",
            "86/86 [==============================] - 73s 845ms/step - loss: 8.2920 - recall_at_10: 0.0171 - ndcg_at_10: 0.0135 - regularization_loss: 0.0000e+00 - loss_batch: 8.2788 - val_loss: 8.2934 - val_recall_at_10: 0.0109 - val_ndcg_at_10: 0.0069 - val_regularization_loss: 0.0000e+00 - val_loss_batch: 7.7607\n"
          ]
        },
        {
          "output_type": "execute_result",
          "data": {
            "text/plain": [
              "<keras.callbacks.History at 0x7c85baaa9d50>"
            ]
          },
          "metadata": {},
          "execution_count": 32
        }
      ],
      "source": [
        "model.compile(optimizer=\"adam\",\n",
        "              run_eagerly=False,\n",
        "              loss=\"categorical_crossentropy\",\n",
        "              metrics=[mm.RecallAt(10), mm.NDCGAt(10)])\n",
        "model.fit(train, validation_data=valid, batch_size=4096, epochs=2)"
      ]
    },
    {
      "cell_type": "code",
      "source": [
        "train_dl = Dataset(os.path.join(output_path, \"train\", \"*.parquet\"), part_size=\"500MB\")\n",
        "valid_dl = Dataset(os.path.join(output_path, \"valid\", \"*.parquet\"), part_size=\"500MB\")\n",
        "\n",
        "# define schema object\n",
        "schema_dl = train_dl.schema"
      ],
      "metadata": {
        "colab": {
          "base_uri": "https://localhost:8080/"
        },
        "id": "YuHrzCd7unCK",
        "outputId": "d0de3f14-7811-49ec-e6d4-5cb43488fd68"
      },
      "id": "YuHrzCd7unCK",
      "execution_count": 20,
      "outputs": [
        {
          "output_type": "stream",
          "name": "stderr",
          "text": [
            "/usr/local/lib/python3.10/dist-packages/merlin/io/dataset.py:267: UserWarning: Initializing an NVTabular Dataset in CPU mode.This is an experimental feature with extremely limited support!\n",
            "  warnings.warn(\n",
            "/usr/local/lib/python3.10/dist-packages/merlin/io/dataset.py:267: UserWarning: Initializing an NVTabular Dataset in CPU mode.This is an experimental feature with extremely limited support!\n",
            "  warnings.warn(\n"
          ]
        }
      ]
    },
    {
      "cell_type": "code",
      "source": [
        "target_column = schema_dl.select_by_tag(Tags.TARGET).column_names[0]\n",
        "target_column"
      ],
      "metadata": {
        "id": "Jrg_wgGE0q0G",
        "outputId": "735933d7-d07c-4c96-a298-7818377a5446",
        "colab": {
          "base_uri": "https://localhost:8080/",
          "height": 35
        }
      },
      "id": "Jrg_wgGE0q0G",
      "execution_count": 21,
      "outputs": [
        {
          "output_type": "execute_result",
          "data": {
            "text/plain": [
              "'click'"
            ],
            "application/vnd.google.colaboratory.intrinsic+json": {
              "type": "string"
            }
          },
          "metadata": {},
          "execution_count": 21
        }
      ]
    },
    {
      "cell_type": "markdown",
      "source": [
        "### Training the DLRM model"
      ],
      "metadata": {
        "id": "9ED5OlHxxgZM"
      },
      "id": "9ED5OlHxxgZM"
    },
    {
      "cell_type": "code",
      "source": [
        "model = mm.DLRMModel(\n",
        "    schema_dl,\n",
        "    embedding_dim=64,\n",
        "    bottom_block=mm.MLPBlock([128, 64]),\n",
        "    top_block=mm.MLPBlock([128, 64, 32]),\n",
        "    prediction_tasks=mm.BinaryClassificationTask(target_column),\n",
        ")\n"
      ],
      "metadata": {
        "id": "RFqnkxrF7YDs"
      },
      "id": "RFqnkxrF7YDs",
      "execution_count": 22,
      "outputs": []
    },
    {
      "cell_type": "code",
      "source": [
        "model.compile(optimizer=\"adam\", run_eagerly=False, metrics=[tf.keras.metrics.AUC()])\n",
        "model.fit(train_dl, validation_data=valid_dl, batch_size=16 * 1024)"
      ],
      "metadata": {
        "colab": {
          "base_uri": "https://localhost:8080/"
        },
        "id": "qOSVT7WA7jlB",
        "outputId": "227cc385-df32-4e54-9f43-155b4eabf53c"
      },
      "id": "qOSVT7WA7jlB",
      "execution_count": 23,
      "outputs": [
        {
          "output_type": "stream",
          "name": "stdout",
          "text": [
            "22/22 [==============================] - 12s 377ms/step - loss: 0.5926 - auc: 0.0000e+00 - regularization_loss: 0.0000e+00 - loss_batch: 0.5771 - val_loss: 0.3372 - val_auc: 0.0000e+00 - val_regularization_loss: 0.0000e+00 - val_loss_batch: 0.3366\n"
          ]
        },
        {
          "output_type": "execute_result",
          "data": {
            "text/plain": [
              "<keras.callbacks.History at 0x7c858960fb80>"
            ]
          },
          "metadata": {},
          "execution_count": 23
        }
      ]
    },
    {
      "cell_type": "markdown",
      "id": "423c10c2-ae46-45bf-9623-6214c7570ac8",
      "metadata": {
        "id": "423c10c2-ae46-45bf-9623-6214c7570ac8"
      },
      "source": [
        "### Evaluate the model accuracy"
      ]
    },
    {
      "cell_type": "code",
      "execution_count": 26,
      "id": "d4a15e73-4835-4720-bb64-1d745b3b3f61",
      "metadata": {
        "colab": {
          "base_uri": "https://localhost:8080/",
          "height": 261
        },
        "id": "d4a15e73-4835-4720-bb64-1d745b3b3f61",
        "outputId": "b8c0259c-84b9-4cc7-98aa-4afee124be12"
      },
      "outputs": [
        {
          "output_type": "stream",
          "name": "stderr",
          "text": [
            "/usr/local/lib/python3.10/dist-packages/merlin/io/dataset.py:267: UserWarning: Initializing an NVTabular Dataset in CPU mode.This is an experimental feature with extremely limited support!\n",
            "  warnings.warn(\n"
          ]
        },
        {
          "output_type": "execute_result",
          "data": {
            "text/plain": [
              "   item_id  item_category  item_shop  item_brand\n",
              "0       12             12         12          12\n",
              "1       11             11         11          11\n",
              "2       78             78         78          78\n",
              "3        6              6          6           6\n",
              "4       30             30         30          30"
            ],
            "text/html": [
              "\n",
              "  <div id=\"df-0ece8ab2-b88e-4026-abef-e79ab9cc862d\" class=\"colab-df-container\">\n",
              "    <div>\n",
              "<style scoped>\n",
              "    .dataframe tbody tr th:only-of-type {\n",
              "        vertical-align: middle;\n",
              "    }\n",
              "\n",
              "    .dataframe tbody tr th {\n",
              "        vertical-align: top;\n",
              "    }\n",
              "\n",
              "    .dataframe thead th {\n",
              "        text-align: right;\n",
              "    }\n",
              "</style>\n",
              "<table border=\"1\" class=\"dataframe\">\n",
              "  <thead>\n",
              "    <tr style=\"text-align: right;\">\n",
              "      <th></th>\n",
              "      <th>item_id</th>\n",
              "      <th>item_category</th>\n",
              "      <th>item_shop</th>\n",
              "      <th>item_brand</th>\n",
              "    </tr>\n",
              "  </thead>\n",
              "  <tbody>\n",
              "    <tr>\n",
              "      <th>0</th>\n",
              "      <td>12</td>\n",
              "      <td>12</td>\n",
              "      <td>12</td>\n",
              "      <td>12</td>\n",
              "    </tr>\n",
              "    <tr>\n",
              "      <th>1</th>\n",
              "      <td>11</td>\n",
              "      <td>11</td>\n",
              "      <td>11</td>\n",
              "      <td>11</td>\n",
              "    </tr>\n",
              "    <tr>\n",
              "      <th>2</th>\n",
              "      <td>78</td>\n",
              "      <td>78</td>\n",
              "      <td>78</td>\n",
              "      <td>78</td>\n",
              "    </tr>\n",
              "    <tr>\n",
              "      <th>3</th>\n",
              "      <td>6</td>\n",
              "      <td>6</td>\n",
              "      <td>6</td>\n",
              "      <td>6</td>\n",
              "    </tr>\n",
              "    <tr>\n",
              "      <th>4</th>\n",
              "      <td>30</td>\n",
              "      <td>30</td>\n",
              "      <td>30</td>\n",
              "      <td>30</td>\n",
              "    </tr>\n",
              "  </tbody>\n",
              "</table>\n",
              "</div>\n",
              "    <div class=\"colab-df-buttons\">\n",
              "\n",
              "  <div class=\"colab-df-container\">\n",
              "    <button class=\"colab-df-convert\" onclick=\"convertToInteractive('df-0ece8ab2-b88e-4026-abef-e79ab9cc862d')\"\n",
              "            title=\"Convert this dataframe to an interactive table.\"\n",
              "            style=\"display:none;\">\n",
              "\n",
              "  <svg xmlns=\"http://www.w3.org/2000/svg\" height=\"24px\" viewBox=\"0 -960 960 960\">\n",
              "    <path d=\"M120-120v-720h720v720H120Zm60-500h600v-160H180v160Zm220 220h160v-160H400v160Zm0 220h160v-160H400v160ZM180-400h160v-160H180v160Zm440 0h160v-160H620v160ZM180-180h160v-160H180v160Zm440 0h160v-160H620v160Z\"/>\n",
              "  </svg>\n",
              "    </button>\n",
              "\n",
              "  <style>\n",
              "    .colab-df-container {\n",
              "      display:flex;\n",
              "      gap: 12px;\n",
              "    }\n",
              "\n",
              "    .colab-df-convert {\n",
              "      background-color: #E8F0FE;\n",
              "      border: none;\n",
              "      border-radius: 50%;\n",
              "      cursor: pointer;\n",
              "      display: none;\n",
              "      fill: #1967D2;\n",
              "      height: 32px;\n",
              "      padding: 0 0 0 0;\n",
              "      width: 32px;\n",
              "    }\n",
              "\n",
              "    .colab-df-convert:hover {\n",
              "      background-color: #E2EBFA;\n",
              "      box-shadow: 0px 1px 2px rgba(60, 64, 67, 0.3), 0px 1px 3px 1px rgba(60, 64, 67, 0.15);\n",
              "      fill: #174EA6;\n",
              "    }\n",
              "\n",
              "    .colab-df-buttons div {\n",
              "      margin-bottom: 4px;\n",
              "    }\n",
              "\n",
              "    [theme=dark] .colab-df-convert {\n",
              "      background-color: #3B4455;\n",
              "      fill: #D2E3FC;\n",
              "    }\n",
              "\n",
              "    [theme=dark] .colab-df-convert:hover {\n",
              "      background-color: #434B5C;\n",
              "      box-shadow: 0px 1px 3px 1px rgba(0, 0, 0, 0.15);\n",
              "      filter: drop-shadow(0px 1px 2px rgba(0, 0, 0, 0.3));\n",
              "      fill: #FFFFFF;\n",
              "    }\n",
              "  </style>\n",
              "\n",
              "    <script>\n",
              "      const buttonEl =\n",
              "        document.querySelector('#df-0ece8ab2-b88e-4026-abef-e79ab9cc862d button.colab-df-convert');\n",
              "      buttonEl.style.display =\n",
              "        google.colab.kernel.accessAllowed ? 'block' : 'none';\n",
              "\n",
              "      async function convertToInteractive(key) {\n",
              "        const element = document.querySelector('#df-0ece8ab2-b88e-4026-abef-e79ab9cc862d');\n",
              "        const dataTable =\n",
              "          await google.colab.kernel.invokeFunction('convertToInteractive',\n",
              "                                                    [key], {});\n",
              "        if (!dataTable) return;\n",
              "\n",
              "        const docLinkHtml = 'Like what you see? Visit the ' +\n",
              "          '<a target=\"_blank\" href=https://colab.research.google.com/notebooks/data_table.ipynb>data table notebook</a>'\n",
              "          + ' to learn more about interactive tables.';\n",
              "        element.innerHTML = '';\n",
              "        dataTable['output_type'] = 'display_data';\n",
              "        await google.colab.output.renderOutput(dataTable, element);\n",
              "        const docLink = document.createElement('div');\n",
              "        docLink.innerHTML = docLinkHtml;\n",
              "        element.appendChild(docLink);\n",
              "      }\n",
              "    </script>\n",
              "  </div>\n",
              "\n",
              "\n",
              "<div id=\"df-f8641303-f898-481e-bfe3-6b50b9277cd2\">\n",
              "  <button class=\"colab-df-quickchart\" onclick=\"quickchart('df-f8641303-f898-481e-bfe3-6b50b9277cd2')\"\n",
              "            title=\"Suggest charts.\"\n",
              "            style=\"display:none;\">\n",
              "\n",
              "<svg xmlns=\"http://www.w3.org/2000/svg\" height=\"24px\"viewBox=\"0 0 24 24\"\n",
              "     width=\"24px\">\n",
              "    <g>\n",
              "        <path d=\"M19 3H5c-1.1 0-2 .9-2 2v14c0 1.1.9 2 2 2h14c1.1 0 2-.9 2-2V5c0-1.1-.9-2-2-2zM9 17H7v-7h2v7zm4 0h-2V7h2v10zm4 0h-2v-4h2v4z\"/>\n",
              "    </g>\n",
              "</svg>\n",
              "  </button>\n",
              "\n",
              "<style>\n",
              "  .colab-df-quickchart {\n",
              "    background-color: #E8F0FE;\n",
              "    border: none;\n",
              "    border-radius: 50%;\n",
              "    cursor: pointer;\n",
              "    display: none;\n",
              "    fill: #1967D2;\n",
              "    height: 32px;\n",
              "    padding: 0 0 0 0;\n",
              "    width: 32px;\n",
              "  }\n",
              "\n",
              "  .colab-df-quickchart:hover {\n",
              "    background-color: #E2EBFA;\n",
              "    box-shadow: 0px 1px 2px rgba(60, 64, 67, 0.3), 0px 1px 3px 1px rgba(60, 64, 67, 0.15);\n",
              "    fill: #174EA6;\n",
              "  }\n",
              "\n",
              "  [theme=dark] .colab-df-quickchart {\n",
              "    background-color: #3B4455;\n",
              "    fill: #D2E3FC;\n",
              "  }\n",
              "\n",
              "  [theme=dark] .colab-df-quickchart:hover {\n",
              "    background-color: #434B5C;\n",
              "    box-shadow: 0px 1px 3px 1px rgba(0, 0, 0, 0.15);\n",
              "    filter: drop-shadow(0px 1px 2px rgba(0, 0, 0, 0.3));\n",
              "    fill: #FFFFFF;\n",
              "  }\n",
              "</style>\n",
              "\n",
              "  <script>\n",
              "    async function quickchart(key) {\n",
              "      const charts = await google.colab.kernel.invokeFunction(\n",
              "          'suggestCharts', [key], {});\n",
              "    }\n",
              "    (() => {\n",
              "      let quickchartButtonEl =\n",
              "        document.querySelector('#df-f8641303-f898-481e-bfe3-6b50b9277cd2 button');\n",
              "      quickchartButtonEl.style.display =\n",
              "        google.colab.kernel.accessAllowed ? 'block' : 'none';\n",
              "    })();\n",
              "  </script>\n",
              "</div>\n",
              "    </div>\n",
              "  </div>\n"
            ]
          },
          "metadata": {},
          "execution_count": 26
        }
      ],
      "source": [
        "# Top-K evaluation\n",
        "candidate_features = unique_rows_by_features(train, Tags.ITEM, Tags.ITEM_ID)\n",
        "candidate_features.head()"
      ]
    },
    {
      "cell_type": "code",
      "execution_count": 33,
      "id": "288bbf45-2afa-4b1a-ae96-a3a4e525de80",
      "metadata": {
        "colab": {
          "base_uri": "https://localhost:8080/"
        },
        "id": "288bbf45-2afa-4b1a-ae96-a3a4e525de80",
        "outputId": "589cdf96-44d4-42dd-bc50-71fb166779bb"
      },
      "outputs": [
        {
          "output_type": "stream",
          "name": "stderr",
          "text": [
            "/usr/local/lib/python3.10/dist-packages/merlin/io/dataset.py:267: UserWarning: Initializing an NVTabular Dataset in CPU mode.This is an experimental feature with extremely limited support!\n",
            "  warnings.warn(\n",
            "/usr/local/lib/python3.10/dist-packages/merlin/io/dataset.py:267: UserWarning: Initializing an NVTabular Dataset in CPU mode.This is an experimental feature with extremely limited support!\n",
            "  warnings.warn(\n",
            "/usr/local/lib/python3.10/dist-packages/merlin/io/dataset.py:267: UserWarning: Initializing an NVTabular Dataset in CPU mode.This is an experimental feature with extremely limited support!\n",
            "  warnings.warn(\n",
            "/usr/local/lib/python3.10/dist-packages/merlin/io/dataset.py:267: UserWarning: Initializing an NVTabular Dataset in CPU mode.This is an experimental feature with extremely limited support!\n",
            "  warnings.warn(\n",
            "/usr/local/lib/python3.10/dist-packages/merlin/io/dataset.py:267: UserWarning: Initializing an NVTabular Dataset in CPU mode.This is an experimental feature with extremely limited support!\n",
            "  warnings.warn(\n",
            "/usr/local/lib/python3.10/dist-packages/merlin/io/dataset.py:267: UserWarning: Initializing an NVTabular Dataset in CPU mode.This is an experimental feature with extremely limited support!\n",
            "  warnings.warn(\n"
          ]
        }
      ],
      "source": [
        "topk = 20\n",
        "topk_model = model.to_top_k_encoder(candidate_features, k=topk, batch_size=128)\n",
        "topk_model.compile(run_eagerly=False)"
      ]
    },
    {
      "cell_type": "code",
      "execution_count": 34,
      "id": "eedfe1c5-f706-4713-ad6e-1cf0e92a3e8c",
      "metadata": {
        "colab": {
          "base_uri": "https://localhost:8080/"
        },
        "id": "eedfe1c5-f706-4713-ad6e-1cf0e92a3e8c",
        "outputId": "e9b63a92-6459-47a5-8603-64fd8c69ed1b"
      },
      "outputs": [
        {
          "output_type": "stream",
          "name": "stdout",
          "text": [
            "147/147 [==============================] - 4s 14ms/step - loss: 0.1482 - recall_at_10: 0.0263 - mrr_at_10: 0.0074 - ndcg_at_10: 0.0117 - map_at_10: 0.0074 - precision_at_10: 0.0026 - regularization_loss: 0.0000e+00 - loss_batch: 0.1474\n"
          ]
        },
        {
          "output_type": "execute_result",
          "data": {
            "text/plain": [
              "{'loss': 0.14823666214942932,\n",
              " 'recall_at_10': 0.02634178288280964,\n",
              " 'mrr_at_10': 0.007390325888991356,\n",
              " 'ndcg_at_10': 0.011713020503520966,\n",
              " 'map_at_10': 0.007390325888991356,\n",
              " 'precision_at_10': 0.0026341788470745087,\n",
              " 'regularization_loss': 0.0,\n",
              " 'loss_batch': 0.07162051647901535}"
            ]
          },
          "metadata": {},
          "execution_count": 34
        }
      ],
      "source": [
        "eval_loader = mm.Loader(valid, batch_size=1024).map(mm.ToTarget(schema, \"item_id\"))\n",
        "\n",
        "metrics = topk_model.evaluate(eval_loader, return_dict=True)\n",
        "metrics"
      ]
    },
    {
      "cell_type": "markdown",
      "id": "f49037a0-a1c2-4a6f-a89e-e67e0e696445",
      "metadata": {
        "id": "f49037a0-a1c2-4a6f-a89e-e67e0e696445"
      },
      "source": [
        "### Generate top-K recommendations"
      ]
    },
    {
      "cell_type": "code",
      "execution_count": 35,
      "id": "e9e3c032-0084-46c8-b61c-eb7b8595d71b",
      "metadata": {
        "id": "e9e3c032-0084-46c8-b61c-eb7b8595d71b"
      },
      "outputs": [],
      "source": [
        "eval_loader = mm.Loader(valid, batch_size=8, shuffle=False)\n",
        "batch =next(iter(eval_loader))"
      ]
    },
    {
      "cell_type": "markdown",
      "id": "b7198e12-1d29-49ac-bbc3-b12935ba9d08",
      "metadata": {
        "id": "b7198e12-1d29-49ac-bbc3-b12935ba9d08"
      },
      "source": [
        "UserID's in current batch"
      ]
    },
    {
      "cell_type": "code",
      "execution_count": 36,
      "id": "09f3ada5-eaa2-43cf-810c-97ccfe78f17d",
      "metadata": {
        "colab": {
          "base_uri": "https://localhost:8080/"
        },
        "id": "09f3ada5-eaa2-43cf-810c-97ccfe78f17d",
        "outputId": "355bf62e-ae10-4103-e02a-560a958af3c5"
      },
      "outputs": [
        {
          "output_type": "execute_result",
          "data": {
            "text/plain": [
              "<tf.Tensor: shape=(8,), dtype=int64, numpy=array([ 8, 12, 42, 16, 26, 11,  3, 48])>"
            ]
          },
          "metadata": {},
          "execution_count": 36
        }
      ],
      "source": [
        "batch[0]['user_id']"
      ]
    },
    {
      "cell_type": "markdown",
      "id": "7b7b8048-1a90-4311-8d19-be6e8715fc7f",
      "metadata": {
        "id": "7b7b8048-1a90-4311-8d19-be6e8715fc7f"
      },
      "source": [
        "### Top 20 recommendations for th above batch of users. with product ID's"
      ]
    },
    {
      "cell_type": "code",
      "execution_count": 41,
      "id": "0e720af4-70cd-40c8-857b-75e127e7d867",
      "metadata": {
        "colab": {
          "base_uri": "https://localhost:8080/"
        },
        "id": "0e720af4-70cd-40c8-857b-75e127e7d867",
        "outputId": "8a0b2aea-31da-4f00-a506-717755491e74"
      },
      "outputs": [
        {
          "output_type": "execute_result",
          "data": {
            "text/plain": [
              "<tf.Tensor: shape=(8, 20), dtype=int32, numpy=\n",
              "array([[167, 103, 359, 222,  24, 517, 558,  18, 201,  36, 109, 272,  39,\n",
              "        414, 444, 337,   7, 294, 398, 384],\n",
              "       [206, 191, 256,  31, 223, 117, 167, 275, 348, 315, 445, 460, 139,\n",
              "        317, 171, 358, 510,  79,  33, 536],\n",
              "       [171, 510,  13, 160, 164, 220, 468,  64, 348,  26, 217,  31,  35,\n",
              "        223, 610, 113,  98, 253,  32, 266],\n",
              "       [ 87,  44, 264,  13, 295, 410, 253, 383, 526,  56, 340, 565, 369,\n",
              "        366, 300, 583, 215, 105, 454, 159],\n",
              "       [477, 581, 197, 274, 483, 256,  62, 475, 187,  84,  43, 225, 403,\n",
              "        194, 402,   3, 275, 392,  90, 364],\n",
              "       [103, 284, 316,  71,  24, 331, 550, 462, 607, 265, 167, 144, 447,\n",
              "        363, 161, 113, 287, 557, 407,   6],\n",
              "       [285, 224, 455,  79, 402, 177, 260, 183, 552, 434, 477, 481, 121,\n",
              "        116, 549,  82, 518,  16, 129, 223],\n",
              "       [ 67, 165, 179, 222,   7, 234, 271, 265,  12, 181,  16, 399,  37,\n",
              "        440,  94, 480, 332, 577, 216, 347]], dtype=int32)>"
            ]
          },
          "metadata": {},
          "execution_count": 41
        }
      ],
      "source": [
        "topk_model(batch[0])[1]"
      ]
    },
    {
      "cell_type": "code",
      "source": [],
      "metadata": {
        "id": "3K3hVdtfy31E"
      },
      "id": "3K3hVdtfy31E",
      "execution_count": null,
      "outputs": []
    }
  ],
  "metadata": {
    "kernelspec": {
      "display_name": "Python 3 (ipykernel)",
      "language": "python",
      "name": "python3"
    },
    "language_info": {
      "codemirror_mode": {
        "name": "ipython",
        "version": 3
      },
      "file_extension": ".py",
      "mimetype": "text/x-python",
      "name": "python",
      "nbconvert_exporter": "python",
      "pygments_lexer": "ipython3",
      "version": "3.10.8"
    },
    "merlin": {
      "containers": [
        "nvcr.io/nvidia/merlin/merlin-tensorflow:latest"
      ]
    },
    "toc": {
      "base_numbering": 1,
      "nav_menu": {},
      "number_sections": true,
      "sideBar": true,
      "skip_h1_title": false,
      "title_cell": "Table of Contents",
      "title_sidebar": "Contents",
      "toc_cell": false,
      "toc_position": {},
      "toc_section_display": true,
      "toc_window_display": false
    },
    "vscode": {
      "interpreter": {
        "hash": "a398807c5c2ed8e5ff9d9890488d007fa99cbabcec733962e21659a28c5da99b"
      }
    },
    "colab": {
      "provenance": []
    }
  },
  "nbformat": 4,
  "nbformat_minor": 5
}